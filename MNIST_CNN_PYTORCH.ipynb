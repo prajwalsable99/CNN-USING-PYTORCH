{
  "cells": [
    {
      "cell_type": "markdown",
      "source": [
        "# PyTorch based ANN to classify mnist handwritten digits"
      ],
      "metadata": {
        "id": "MU9_4BDBZd6D"
      }
    },
    {
      "cell_type": "markdown",
      "source": [
        "\n",
        "# Import libraries"
      ],
      "metadata": {
        "id": "4t4IqdNk7B3h"
      }
    },
    {
      "cell_type": "code",
      "source": [
        "import torch\n",
        "import numpy as np\n",
        "import torch.nn as nn\n",
        "import torch.optim as  optim\n",
        "import torchvision.datasets as datasets\n",
        "from torch.utils.data import DataLoader\n",
        "import torchvision.transforms as transforms\n",
        "import matplotlib.pyplot as plt\n",
        "import torch.nn.functional as F\n",
        "\n",
        "from torchsummary import summary"
      ],
      "metadata": {
        "id": "-tAOnmMr1wvi"
      },
      "execution_count": 2,
      "outputs": []
    },
    {
      "cell_type": "code",
      "source": [
        "\n",
        "mnist_trainset = datasets.MNIST(root='./data', train=True, download=True, transform=transforms.ToTensor())\n",
        "mnist_testset = datasets.MNIST(root='./data', train=False, download=True, transform=transforms.ToTensor())"
      ],
      "metadata": {
        "id": "t-mar6uc2VzZ",
        "colab": {
          "base_uri": "https://localhost:8080/"
        },
        "outputId": "bd6bb3e7-7dbd-4efc-92e4-7e2fe86436e9"
      },
      "execution_count": 3,
      "outputs": [
        {
          "output_type": "stream",
          "name": "stdout",
          "text": [
            "Downloading http://yann.lecun.com/exdb/mnist/train-images-idx3-ubyte.gz\n",
            "Failed to download (trying next):\n",
            "<urlopen error [SSL: CERTIFICATE_VERIFY_FAILED] certificate verify failed: certificate has expired (_ssl.c:1007)>\n",
            "\n",
            "Downloading https://ossci-datasets.s3.amazonaws.com/mnist/train-images-idx3-ubyte.gz\n",
            "Downloading https://ossci-datasets.s3.amazonaws.com/mnist/train-images-idx3-ubyte.gz to ./data/MNIST/raw/train-images-idx3-ubyte.gz\n"
          ]
        },
        {
          "output_type": "stream",
          "name": "stderr",
          "text": [
            "100%|██████████| 9912422/9912422 [00:00<00:00, 17527399.92it/s]\n"
          ]
        },
        {
          "output_type": "stream",
          "name": "stdout",
          "text": [
            "Extracting ./data/MNIST/raw/train-images-idx3-ubyte.gz to ./data/MNIST/raw\n",
            "\n",
            "Downloading http://yann.lecun.com/exdb/mnist/train-labels-idx1-ubyte.gz\n",
            "Failed to download (trying next):\n",
            "<urlopen error [SSL: CERTIFICATE_VERIFY_FAILED] certificate verify failed: certificate has expired (_ssl.c:1007)>\n",
            "\n",
            "Downloading https://ossci-datasets.s3.amazonaws.com/mnist/train-labels-idx1-ubyte.gz\n",
            "Downloading https://ossci-datasets.s3.amazonaws.com/mnist/train-labels-idx1-ubyte.gz to ./data/MNIST/raw/train-labels-idx1-ubyte.gz\n"
          ]
        },
        {
          "output_type": "stream",
          "name": "stderr",
          "text": [
            "100%|██████████| 28881/28881 [00:00<00:00, 489662.69it/s]\n"
          ]
        },
        {
          "output_type": "stream",
          "name": "stdout",
          "text": [
            "Extracting ./data/MNIST/raw/train-labels-idx1-ubyte.gz to ./data/MNIST/raw\n",
            "\n",
            "Downloading http://yann.lecun.com/exdb/mnist/t10k-images-idx3-ubyte.gz\n",
            "Failed to download (trying next):\n",
            "<urlopen error [SSL: CERTIFICATE_VERIFY_FAILED] certificate verify failed: certificate has expired (_ssl.c:1007)>\n",
            "\n",
            "Downloading https://ossci-datasets.s3.amazonaws.com/mnist/t10k-images-idx3-ubyte.gz\n",
            "Downloading https://ossci-datasets.s3.amazonaws.com/mnist/t10k-images-idx3-ubyte.gz to ./data/MNIST/raw/t10k-images-idx3-ubyte.gz\n"
          ]
        },
        {
          "output_type": "stream",
          "name": "stderr",
          "text": [
            "100%|██████████| 1648877/1648877 [00:00<00:00, 4357625.39it/s]\n"
          ]
        },
        {
          "output_type": "stream",
          "name": "stdout",
          "text": [
            "Extracting ./data/MNIST/raw/t10k-images-idx3-ubyte.gz to ./data/MNIST/raw\n",
            "\n",
            "Downloading http://yann.lecun.com/exdb/mnist/t10k-labels-idx1-ubyte.gz\n",
            "Failed to download (trying next):\n",
            "<urlopen error [SSL: CERTIFICATE_VERIFY_FAILED] certificate verify failed: certificate has expired (_ssl.c:1007)>\n",
            "\n",
            "Downloading https://ossci-datasets.s3.amazonaws.com/mnist/t10k-labels-idx1-ubyte.gz\n",
            "Downloading https://ossci-datasets.s3.amazonaws.com/mnist/t10k-labels-idx1-ubyte.gz to ./data/MNIST/raw/t10k-labels-idx1-ubyte.gz\n"
          ]
        },
        {
          "output_type": "stream",
          "name": "stderr",
          "text": [
            "100%|██████████| 4542/4542 [00:00<00:00, 2759346.58it/s]\n"
          ]
        },
        {
          "output_type": "stream",
          "name": "stdout",
          "text": [
            "Extracting ./data/MNIST/raw/t10k-labels-idx1-ubyte.gz to ./data/MNIST/raw\n",
            "\n"
          ]
        }
      ]
    },
    {
      "cell_type": "code",
      "source": [
        "mnist_trainset.data.shape,mnist_testset.data.shape,mnist_trainset.targets.shape,mnist_testset.targets.shape"
      ],
      "metadata": {
        "id": "iov6IhxX1iOf",
        "outputId": "958393e5-8f5b-47f6-a4c1-30db96f35a5a",
        "colab": {
          "base_uri": "https://localhost:8080/"
        }
      },
      "execution_count": 4,
      "outputs": [
        {
          "output_type": "execute_result",
          "data": {
            "text/plain": [
              "(torch.Size([60000, 28, 28]),\n",
              " torch.Size([10000, 28, 28]),\n",
              " torch.Size([60000]),\n",
              " torch.Size([10000]))"
            ]
          },
          "metadata": {},
          "execution_count": 4
        }
      ]
    },
    {
      "cell_type": "markdown",
      "source": [
        "# Import Dataset"
      ],
      "metadata": {
        "id": "YYhzdrJCR5LX"
      }
    },
    {
      "cell_type": "code",
      "source": [
        "mnist_trainset.classes"
      ],
      "metadata": {
        "id": "H6iXubDQ3bW9",
        "outputId": "99a8c3c8-8d29-4d7c-a906-50e7625bf9fe",
        "colab": {
          "base_uri": "https://localhost:8080/"
        }
      },
      "execution_count": 5,
      "outputs": [
        {
          "output_type": "execute_result",
          "data": {
            "text/plain": [
              "['0 - zero',\n",
              " '1 - one',\n",
              " '2 - two',\n",
              " '3 - three',\n",
              " '4 - four',\n",
              " '5 - five',\n",
              " '6 - six',\n",
              " '7 - seven',\n",
              " '8 - eight',\n",
              " '9 - nine']"
            ]
          },
          "metadata": {},
          "execution_count": 5
        }
      ]
    },
    {
      "cell_type": "code",
      "source": [
        "len(mnist_trainset),len(mnist_testset)"
      ],
      "metadata": {
        "id": "kNQH_hlnIT0s",
        "outputId": "2944e94e-18f2-40cd-e498-00e8fdda2826",
        "colab": {
          "base_uri": "https://localhost:8080/"
        }
      },
      "execution_count": 6,
      "outputs": [
        {
          "output_type": "execute_result",
          "data": {
            "text/plain": [
              "(60000, 10000)"
            ]
          },
          "metadata": {},
          "execution_count": 6
        }
      ]
    },
    {
      "cell_type": "code",
      "source": [
        "\n",
        "batch_size=256\n",
        "train_loader=DataLoader(mnist_trainset,batch_size=batch_size,shuffle=True)\n",
        "test_loader=DataLoader(mnist_testset,batch_size=batch_size,shuffle=False)"
      ],
      "metadata": {
        "id": "Exo-JMiM4Bvc"
      },
      "execution_count": 7,
      "outputs": []
    },
    {
      "cell_type": "code",
      "source": [
        "len(train_loader),len(test_loader)\n"
      ],
      "metadata": {
        "id": "nr39_Iin4eL_",
        "outputId": "a07adc46-e8d2-42c0-c8c8-db839ec1e814",
        "colab": {
          "base_uri": "https://localhost:8080/"
        }
      },
      "execution_count": 8,
      "outputs": [
        {
          "output_type": "execute_result",
          "data": {
            "text/plain": [
              "(235, 40)"
            ]
          },
          "metadata": {},
          "execution_count": 8
        }
      ]
    },
    {
      "cell_type": "code",
      "source": [],
      "metadata": {
        "id": "_ByiNoXB4kju"
      },
      "execution_count": 8,
      "outputs": []
    },
    {
      "cell_type": "code",
      "source": [
        "data_iter=iter(train_loader)\n",
        "\n",
        "images,labels=next(data_iter)\n",
        "print(images.shape,labels.shape)"
      ],
      "metadata": {
        "id": "7LZLcxBY4uq8",
        "outputId": "73f0c135-3e35-4010-fd40-8db7296389d9",
        "colab": {
          "base_uri": "https://localhost:8080/"
        }
      },
      "execution_count": 9,
      "outputs": [
        {
          "output_type": "stream",
          "name": "stdout",
          "text": [
            "torch.Size([256, 1, 28, 28]) torch.Size([256])\n"
          ]
        }
      ]
    },
    {
      "cell_type": "code",
      "source": [
        "\n",
        "n=16\n",
        "\n",
        "# plt.figure(figsize=(20,20))\n",
        "\n",
        "for i in range(1,n+1):\n",
        "  plt.subplot(4,4,i)\n",
        "  plt.imshow(images[i-1].reshape(28,28),cmap='gray')\n",
        "\n",
        "plt.tight_layout()"
      ],
      "metadata": {
        "id": "SN8K5ZR75pgT",
        "outputId": "65b86a05-3e26-4bf4-ad16-7dd7246e21e6",
        "colab": {
          "base_uri": "https://localhost:8080/",
          "height": 487
        }
      },
      "execution_count": 10,
      "outputs": [
        {
          "output_type": "display_data",
          "data": {
            "text/plain": [
              "<Figure size 640x480 with 16 Axes>"
            ],
            "image/png": "[encoded data removed]"
          },
          "metadata": {}
        }
      ]
    },
    {
      "cell_type": "markdown",
      "source": [
        "# Model"
      ],
      "metadata": {
        "id": "8tgRyt7BSDn7"
      }
    },
    {
      "cell_type": "code",
      "source": [
        "\n",
        "# class ANN( nn.Module):\n",
        "\n",
        "#     def __init__(self):\n",
        "#         super(ANN,self).__init__()\n",
        "#         self.fc1= nn.Linear(28*28,256)\n",
        "#         self.fc2= nn.Linear(256,128)\n",
        "#         self.fc3= nn.Linear(128,64)\n",
        "#         self.fc4= nn.Linear(64,10)\n",
        "\n",
        "#     def forward(self,x):\n",
        "#         out = x.view(-1,28*28)\n",
        "#         out=self.fc1(out)\n",
        "#         out=F.relu(out)\n",
        "#         out=self.fc2(out)\n",
        "#         out=F.relu(out)\n",
        "#         out=self.fc3(out)\n",
        "#         out=F.relu(out)\n",
        "#         out=self.fc4(out)\n",
        "#         return out\n",
        "\n",
        "\n",
        "\n",
        "class CNN(nn.Module):\n",
        "\n",
        "    def __init__(self):\n",
        "        super(CNN,self).__init__()\n",
        "\n",
        "        self.conv1= nn.Conv2d(1,10,kernel_size=5,stride=1,padding=1)\n",
        "\n",
        "        self.conv2= nn.Conv2d(10,20,kernel_size=5,stride=1,padding=1)\n",
        "\n",
        "        # units in FC layer\n",
        "        expectSize= np.floor((5+2*0-1)/1) +1\n",
        "        expectSize=20*int(expectSize**2)\n",
        "\n",
        "        self.fc1= nn.Linear(expectSize,50)\n",
        "\n",
        "        self.out=nn.Linear(50,10)\n",
        "\n",
        "\n",
        "\n",
        "    def forward(self,x):\n",
        "\n",
        "\n",
        "        # print(f'input : {x.shape}')\n",
        "\n",
        "        x=F.relu(F.max_pool2d(self.conv1(x),2))\n",
        "        # print(f'cov1/pool1 : {x.shape}')\n",
        "\n",
        "        x=F.relu(F.max_pool2d(self.conv2(x),2))\n",
        "        # print(f'conv2/pool2 : {x.shape}')\n",
        "\n",
        "        nUnits= x.shape.numel()/x.shape[0]\n",
        "        x=x.view(-1,int(nUnits))\n",
        "        # print(f'input to dense: {x.shape}')\n",
        "\n",
        "        x=F.relu(self.fc1(x))\n",
        "\n",
        "        # print(f'fc1 layer : {x.shape}')\n",
        "\n",
        "        x=self.out(x)\n",
        "\n",
        "        # print(f'output layer : {x.shape}')\n",
        "\n",
        "\n",
        "\n",
        "        return x\n",
        "\n",
        "\n"
      ],
      "metadata": {
        "id": "L74qUpH06lHe"
      },
      "execution_count": 33,
      "outputs": []
    },
    {
      "cell_type": "code",
      "source": [
        "model=CNN()\n",
        "\n",
        "print(model.parameters)"
      ],
      "metadata": {
        "id": "0cg8mktS9RXM",
        "outputId": "69d3221e-d9d6-4d90-9aa0-c5e13d6f9220",
        "colab": {
          "base_uri": "https://localhost:8080/"
        }
      },
      "execution_count": 34,
      "outputs": [
        {
          "output_type": "stream",
          "name": "stdout",
          "text": [
            "<bound method Module.parameters of CNN(\n",
            "  (conv1): Conv2d(1, 10, kernel_size=(5, 5), stride=(1, 1), padding=(1, 1))\n",
            "  (conv2): Conv2d(10, 20, kernel_size=(5, 5), stride=(1, 1), padding=(1, 1))\n",
            "  (fc1): Linear(in_features=500, out_features=50, bias=True)\n",
            "  (out): Linear(in_features=50, out_features=10, bias=True)\n",
            ")>\n"
          ]
        }
      ]
    },
    {
      "cell_type": "code",
      "source": [
        "loss_fn=nn.CrossEntropyLoss()\n",
        "optimizer=torch.optim.Adam(model.parameters(),lr=0.001)"
      ],
      "metadata": {
        "id": "HDelGS0J9nd7"
      },
      "execution_count": 35,
      "outputs": []
    },
    {
      "cell_type": "markdown",
      "source": [
        "# Training and Evaluation"
      ],
      "metadata": {
        "id": "SQikcGl7SJRL"
      }
    },
    {
      "cell_type": "code",
      "source": [
        "epochs=10"
      ],
      "metadata": {
        "id": "LqJ29C_Y9yG_"
      },
      "execution_count": 36,
      "outputs": []
    },
    {
      "cell_type": "code",
      "source": [
        "data_iter=iter(train_loader)\n",
        "\n",
        "images,labels=next(data_iter)\n",
        "print(images.shape,labels.shape)\n",
        "output =model(images)\n"
      ],
      "metadata": {
        "colab": {
          "base_uri": "https://localhost:8080/"
        },
        "id": "vd54OvBQu0si",
        "outputId": "aa24bde4-2663-49e8-cc7a-fa1688dd9758"
      },
      "execution_count": 32,
      "outputs": [
        {
          "output_type": "stream",
          "name": "stdout",
          "text": [
            "torch.Size([256, 1, 28, 28]) torch.Size([256])\n",
            "input : torch.Size([256, 1, 28, 28])\n",
            "cov1/pool1 : torch.Size([256, 10, 13, 13])\n",
            "conv2/pool2 : torch.Size([256, 20, 5, 5])\n",
            "input to dense: torch.Size([256, 500])\n",
            "fc1 layer : torch.Size([256, 50])\n",
            "output layer : torch.Size([256, 10])\n"
          ]
        }
      ]
    },
    {
      "cell_type": "code",
      "source": [
        "from tqdm import tqdm\n",
        "training_loss=[]\n",
        "testing_loss=[]\n",
        "\n",
        "training_accuracy=[]\n",
        "testing_accuracy=[]\n",
        "\n",
        "for epoch in range(epochs):\n",
        "\n",
        "    train_acc=0\n",
        "    train_loss=0\n",
        "\n",
        "\n",
        "    model.train()\n",
        "\n",
        "\n",
        "\n",
        "    for images,labels in tqdm(train_loader ,desc='training in batches'):\n",
        "\n",
        "        output =model(images)\n",
        "\n",
        "        optimizer.zero_grad()\n",
        "        loss= loss_fn(output,labels)\n",
        "        loss.backward()\n",
        "        optimizer.step()\n",
        "\n",
        "        preds=torch.argmax(output,axis=1)\n",
        "\n",
        "        train_acc += (preds==labels).sum().item()\n",
        "        train_loss+=loss.item()\n",
        "\n",
        "    training_accuracy.append(round( train_acc /len(mnist_trainset),2))\n",
        "    training_loss.append( round(train_loss/len(train_loader),2))\n",
        "\n",
        "\n",
        "    model.eval()\n",
        "\n",
        "    test_loss=0\n",
        "    test_acc=0\n",
        "\n",
        "    with torch.no_grad():\n",
        "        for images,labels in test_loader:\n",
        "\n",
        "            output =model(images)\n",
        "            loss= loss_fn(output,labels)\n",
        "            preds=torch.argmax(output,axis=1)\n",
        "\n",
        "            test_acc += (preds==labels).sum().item()\n",
        "            test_loss+=loss.item()\n",
        "\n",
        "    testing_accuracy.append(  round( test_acc /len(mnist_testset) ,2 ))\n",
        "    testing_loss.append( round(test_loss/len(test_loader),2))\n",
        "\n",
        "\n",
        "    print ( f\"Epoch {epoch+1} , Training Acc: {training_accuracy[epoch]},Training Loss :{training_loss[epoch]}, Testing Acc: {testing_accuracy[epoch]},Testing Loss :{testing_loss[epoch]} \")\n",
        "\n",
        "\n"
      ],
      "metadata": {
        "id": "APYUZEhVFF8B",
        "outputId": "2b45537d-6f71-437d-c587-7d0972bb280f",
        "colab": {
          "base_uri": "https://localhost:8080/"
        }
      },
      "execution_count": 37,
      "outputs": [
        {
          "output_type": "stream",
          "name": "stderr",
          "text": [
            "training in batches: 100%|██████████| 235/235 [00:35<00:00,  6.55it/s]\n"
          ]
        },
        {
          "output_type": "stream",
          "name": "stdout",
          "text": [
            "Epoch 1 , Training Acc: 0.85,Training Loss :0.53, Testing Acc: 0.95,Testing Loss :0.15 \n"
          ]
        },
        {
          "output_type": "stream",
          "name": "stderr",
          "text": [
            "training in batches: 100%|██████████| 235/235 [00:36<00:00,  6.51it/s]\n"
          ]
        },
        {
          "output_type": "stream",
          "name": "stdout",
          "text": [
            "Epoch 2 , Training Acc: 0.96,Training Loss :0.12, Testing Acc: 0.98,Testing Loss :0.08 \n"
          ]
        },
        {
          "output_type": "stream",
          "name": "stderr",
          "text": [
            "training in batches: 100%|██████████| 235/235 [00:35<00:00,  6.57it/s]\n"
          ]
        },
        {
          "output_type": "stream",
          "name": "stdout",
          "text": [
            "Epoch 3 , Training Acc: 0.97,Training Loss :0.08, Testing Acc: 0.98,Testing Loss :0.06 \n"
          ]
        },
        {
          "output_type": "stream",
          "name": "stderr",
          "text": [
            "training in batches: 100%|██████████| 235/235 [00:35<00:00,  6.58it/s]\n"
          ]
        },
        {
          "output_type": "stream",
          "name": "stdout",
          "text": [
            "Epoch 4 , Training Acc: 0.98,Training Loss :0.07, Testing Acc: 0.98,Testing Loss :0.05 \n"
          ]
        },
        {
          "output_type": "stream",
          "name": "stderr",
          "text": [
            "training in batches: 100%|██████████| 235/235 [00:34<00:00,  6.86it/s]\n"
          ]
        },
        {
          "output_type": "stream",
          "name": "stdout",
          "text": [
            "Epoch 5 , Training Acc: 0.98,Training Loss :0.06, Testing Acc: 0.99,Testing Loss :0.04 \n"
          ]
        },
        {
          "output_type": "stream",
          "name": "stderr",
          "text": [
            "training in batches: 100%|██████████| 235/235 [00:34<00:00,  6.76it/s]\n"
          ]
        },
        {
          "output_type": "stream",
          "name": "stdout",
          "text": [
            "Epoch 6 , Training Acc: 0.98,Training Loss :0.05, Testing Acc: 0.99,Testing Loss :0.04 \n"
          ]
        },
        {
          "output_type": "stream",
          "name": "stderr",
          "text": [
            "training in batches: 100%|██████████| 235/235 [00:34<00:00,  6.71it/s]\n"
          ]
        },
        {
          "output_type": "stream",
          "name": "stdout",
          "text": [
            "Epoch 7 , Training Acc: 0.99,Training Loss :0.04, Testing Acc: 0.99,Testing Loss :0.04 \n"
          ]
        },
        {
          "output_type": "stream",
          "name": "stderr",
          "text": [
            "training in batches: 100%|██████████| 235/235 [00:35<00:00,  6.57it/s]\n"
          ]
        },
        {
          "output_type": "stream",
          "name": "stdout",
          "text": [
            "Epoch 8 , Training Acc: 0.99,Training Loss :0.04, Testing Acc: 0.99,Testing Loss :0.04 \n"
          ]
        },
        {
          "output_type": "stream",
          "name": "stderr",
          "text": [
            "training in batches: 100%|██████████| 235/235 [00:34<00:00,  6.71it/s]\n"
          ]
        },
        {
          "output_type": "stream",
          "name": "stdout",
          "text": [
            "Epoch 9 , Training Acc: 0.99,Training Loss :0.04, Testing Acc: 0.99,Testing Loss :0.04 \n"
          ]
        },
        {
          "output_type": "stream",
          "name": "stderr",
          "text": [
            "training in batches: 100%|██████████| 235/235 [00:35<00:00,  6.70it/s]\n"
          ]
        },
        {
          "output_type": "stream",
          "name": "stdout",
          "text": [
            "Epoch 10 , Training Acc: 0.99,Training Loss :0.03, Testing Acc: 0.99,Testing Loss :0.03 \n"
          ]
        }
      ]
    },
    {
      "cell_type": "code",
      "source": [
        "summary(model,(1,28,28))"
      ],
      "metadata": {
        "colab": {
          "base_uri": "https://localhost:8080/"
        },
        "id": "X3IM49TqxuHM",
        "outputId": "2ee995aa-2679-4c32-b2d6-5ee90ecf8403"
      },
      "execution_count": 43,
      "outputs": [
        {
          "output_type": "stream",
          "name": "stdout",
          "text": [
            "----------------------------------------------------------------\n",
            "        Layer (type)               Output Shape         Param #\n",
            "================================================================\n",
            "            Conv2d-1           [-1, 10, 26, 26]             260\n",
            "            Conv2d-2           [-1, 20, 11, 11]           5,020\n",
            "            Linear-3                   [-1, 50]          25,050\n",
            "            Linear-4                   [-1, 10]             510\n",
            "================================================================\n",
            "Total params: 30,840\n",
            "Trainable params: 30,840\n",
            "Non-trainable params: 0\n",
            "----------------------------------------------------------------\n",
            "Input size (MB): 0.00\n",
            "Forward/backward pass size (MB): 0.07\n",
            "Params size (MB): 0.12\n",
            "Estimated Total Size (MB): 0.19\n",
            "----------------------------------------------------------------\n"
          ]
        }
      ]
    },
    {
      "cell_type": "code",
      "source": [
        "plt.figure(figsize=(10,4))\n",
        "\n",
        "plt.subplot(1,2,1)\n",
        "plt.plot(range(epochs),training_loss,label='training loss' )\n",
        "plt.plot(range(epochs),testing_loss,label='testing loss' )\n",
        "plt.legend()\n",
        "\n",
        "plt.subplot(1,2,2)\n",
        "plt.plot(range(epochs),training_accuracy,label='training accuracy' )\n",
        "plt.plot(range(epochs),testing_accuracy  ,label='testing accuracy' )\n",
        "plt.legend()\n",
        "\n",
        "plt.show()"
      ],
      "metadata": {
        "id": "-y-bzs1WFyVN",
        "outputId": "27506281-0ff2-402b-f67f-51373bd16176",
        "colab": {
          "base_uri": "https://localhost:8080/",
          "height": 368
        }
      },
      "execution_count": 44,
      "outputs": [
        {
          "output_type": "display_data",
          "data": {
            "text/plain": [
              "<Figure size 1000x400 with 2 Axes>"
            ],
            "image/png": "[encoded data removed]"
          },
          "metadata": {}
        }
      ]
    },
    {
      "cell_type": "markdown",
      "source": [
        "# TEST"
      ],
      "metadata": {
        "id": "msC4GN6hZVZc"
      }
    },
    {
      "cell_type": "code",
      "source": [
        "data_iter=iter(test_loader)\n",
        "\n",
        "images,labels=next(data_iter)\n",
        "print(images[0].shape,labels.shape)"
      ],
      "metadata": {
        "id": "PhzFF31oRevJ",
        "colab": {
          "base_uri": "https://localhost:8080/"
        },
        "outputId": "e83365ac-4fee-4ba7-ccfd-8399b9a7024f"
      },
      "execution_count": 49,
      "outputs": [
        {
          "output_type": "stream",
          "name": "stdout",
          "text": [
            "torch.Size([1, 28, 28]) torch.Size([256])\n"
          ]
        }
      ]
    },
    {
      "cell_type": "code",
      "source": [],
      "metadata": {
        "id": "ms4J-m0SXGXe"
      },
      "execution_count": null,
      "outputs": []
    },
    {
      "cell_type": "code",
      "source": [],
      "metadata": {
        "id": "gjzM4WOHZJzv"
      },
      "execution_count": null,
      "outputs": []
    },
    {
      "cell_type": "code",
      "source": [],
      "metadata": {
        "id": "dnyQTa0Peu1F"
      },
      "execution_count": null,
      "outputs": []
    },
    {
      "cell_type": "code",
      "source": [],
      "metadata": {
        "id": "eZP8RQF7fSua"
      },
      "execution_count": null,
      "outputs": []
    }
  ],
  "metadata": {
    "colab": {
      "provenance": []
    },
    "kernelspec": {
      "display_name": "Python 3",
      "name": "python3"
    }
  },
  "nbformat": 4,
  "nbformat_minor": 0
}